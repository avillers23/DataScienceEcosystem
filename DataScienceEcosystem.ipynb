{
 "cells": [
  {
   "cell_type": "markdown",
   "id": "074edc27",
   "metadata": {},
   "source": [
    "# Data Science Tools and Ecosystem"
   ]
  },
  {
   "cell_type": "markdown",
   "id": "1d04199c",
   "metadata": {},
   "source": [
    "In this notebook, Data Science Tools and Ecosystem are summarized."
   ]
  },
  {
   "cell_type": "markdown",
   "id": "cfa6ff4a",
   "metadata": {},
   "source": [
    "**Objectives**\n",
    "- List popular laguages for Data Science\n",
    "- List commonly used libraries for Data Science\n",
    "- List popular open source development environments for Data Science"
   ]
  },
  {
   "cell_type": "markdown",
   "id": "5f11147e",
   "metadata": {},
   "source": [
    "Some of the popular languages that Data Scientists use are: \n",
    "1) Python\n",
    "2) Java\n",
    "3) R\n"
   ]
  },
  {
   "attachments": {},
   "cell_type": "markdown",
   "id": "94523f99",
   "metadata": {},
   "source": [
    "Some of the commonly used libraries used by Data Scientists include:\n",
    "1) Pandas\n",
    "2) SciPy\n",
    "3) PyTorch"
   ]
  },
  {
   "cell_type": "markdown",
   "id": "132c6848",
   "metadata": {},
   "source": [
    "|Data Science Tools |\n",
    "|------------------ |\n",
    "|Hadoop |\n",
    "|Spark |\n",
    "|R Studio |"
   ]
  },
  {
   "cell_type": "markdown",
   "id": "b8ff4716",
   "metadata": {},
   "source": [
    "### Below are a few examples of evaluating arithmetic expressions in Python"
   ]
  },
  {
   "cell_type": "code",
   "execution_count": 1,
   "id": "c51e7160",
   "metadata": {},
   "outputs": [
    {
     "data": {
      "text/plain": [
       "17"
      ]
     },
     "execution_count": 1,
     "metadata": {},
     "output_type": "execute_result"
    }
   ],
   "source": [
    "#This a simple arithmetic expression to mutiply then add integers\n",
    "(3*4)+5"
   ]
  },
  {
   "cell_type": "code",
   "execution_count": 2,
   "id": "f0424d23",
   "metadata": {},
   "outputs": [
    {
     "data": {
      "text/plain": [
       "3.3333333333333335"
      ]
     },
     "execution_count": 2,
     "metadata": {},
     "output_type": "execute_result"
    }
   ],
   "source": [
    "#This will convert 200 minutes to hours by diving by 60\n",
    "200/60"
   ]
  },
  {
   "cell_type": "markdown",
   "id": "458aaeb8",
   "metadata": {},
   "source": [
    "## Author \n",
    "David Villers"
   ]
  }
 ],
 "metadata": {
  "kernelspec": {
   "display_name": "Python 3 (ipykernel)",
   "language": "python",
   "name": "python3"
  },
  "language_info": {
   "codemirror_mode": {
    "name": "ipython",
    "version": 3
   },
   "file_extension": ".py",
   "mimetype": "text/x-python",
   "name": "python",
   "nbconvert_exporter": "python",
   "pygments_lexer": "ipython3",
   "version": "3.11.5"
  }
 },
 "nbformat": 4,
 "nbformat_minor": 5
}
